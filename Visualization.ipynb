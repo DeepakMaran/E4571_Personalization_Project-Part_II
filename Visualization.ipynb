{
 "cells": [
  {
   "cell_type": "code",
   "execution_count": 77,
   "metadata": {
    "collapsed": true
   },
   "outputs": [],
   "source": [
    "import pandas as pd\n",
    "import numpy as np\n",
    "import matplotlib.pyplot as plt\n",
    "\n",
    "ratings = pd.read_csv('final.csv', encoding='latin-1')\n",
    "items = ratings[['ISBN', u'Book-Title',u'Book-Author', u'Year-Of-Publication', u'Publisher']].drop_duplicates()\n"
   ]
  },
  {
   "cell_type": "code",
   "execution_count": 59,
   "metadata": {
    "collapsed": true
   },
   "outputs": [],
   "source": [
    "publisher_book_count = items.groupby(['Publisher'])['ISBN'].count().sort_values(ascending=False) "
   ]
  },
  {
   "cell_type": "code",
   "execution_count": 88,
   "metadata": {},
   "outputs": [
    {
     "data": {
      "image/png": "[encoded data removed]",
      "text/plain": [
       "<matplotlib.figure.Figure at 0x7facff689978>"
      ]
     },
     "metadata": {},
     "output_type": "display_data"
    }
   ],
   "source": [
    "publisher_book_count.plot()\n",
    "plt.ylabel('Number of books published')\n",
    "\n",
    "line1 = [5]*16809\n"
   ]
  },
  {
   "cell_type": "code",
   "execution_count": 82,
   "metadata": {
    "collapsed": true
   },
   "outputs": [],
   "source": [
    "Author_book_count = items.groupby(['Book-Author'])['ISBN'].count().sort_values(ascending=False) "
   ]
  },
  {
   "cell_type": "code",
   "execution_count": 80,
   "metadata": {
    "collapsed": true
   },
   "outputs": [],
   "source": [
    "Author_book_count = items.groupby(['Book-Author'])['ISBN']"
   ]
  },
  {
   "cell_type": "code",
   "execution_count": 81,
   "metadata": {},
   "outputs": [
    {
     "data": {
      "text/plain": [
       "<pandas.core.groupby.SeriesGroupBy object at 0x7facff70d4e0>"
      ]
     },
     "execution_count": 81,
     "metadata": {},
     "output_type": "execute_result"
    }
   ],
   "source": [
    "Author_book_count"
   ]
  },
  {
   "cell_type": "code",
   "execution_count": 83,
   "metadata": {},
   "outputs": [
    {
     "data": {
      "text/plain": [
       "Book-Author\n",
       "Stephen King                       132\n",
       "Nora Roberts                        95\n",
       "Mary Higgins Clark                  45\n",
       "Dean R. Koontz                      43\n",
       "Danielle Steel                      42\n",
       "Tom Clancy                          40\n",
       "James Patterson                     39\n",
       "William Shakespeare                 38\n",
       "V.C. Andrews                        38\n",
       "Anne McCaffrey                      35\n",
       "Anne Rice                           32\n",
       "Sandra Brown                        30\n",
       "John Grisham                        29\n",
       "Sue Grafton                         29\n",
       "Jack Canfield                       29\n",
       "Piers Anthony                       28\n",
       "Agatha Christie                     28\n",
       "Lilian Jackson Braun                26\n",
       "John Sandford                       26\n",
       "Maeve Binchy                        26\n",
       "Catherine Coulter                   26\n",
       "Jude Deveraux                       25\n",
       "Jonathan Kellerman                  25\n",
       "Douglas Adams                       23\n",
       "Janet Evanovich                     23\n",
       "Robin Cook                          23\n",
       "Laurell K. Hamilton                 23\n",
       "Michael Crichton                    22\n",
       "Terry Pratchett                     22\n",
       "Diana Palmer                        21\n",
       "                                  ... \n",
       "Margaret Cho                         1\n",
       "Margaret Craven                      1\n",
       "Margaret Daley                       1\n",
       "Margaret Drabble                     1\n",
       "Margaret Dumas                       1\n",
       "Margaret Edson                       1\n",
       "Margaret Fishback Powers             1\n",
       "Marc Parent                          1\n",
       "Marc Norman                          1\n",
       "Marc Chagall                         1\n",
       "Mallory Kane                         1\n",
       "Malcolm Bradbury                     1\n",
       "Malcolm Gladwell                     1\n",
       "Malcolm Kiniry                       1\n",
       "Malcolm McConnell                    1\n",
       "Malcolm X                            1\n",
       "Malcolm-Jamal Warner                 1\n",
       "Malika Oufkir                        1\n",
       "Mallory Hart                         1\n",
       "Man Ho Kwok                          1\n",
       "Marc Brown                           1\n",
       "Man Ray                              1\n",
       "Manfred. Meding                      1\n",
       "Manil Suri                           1\n",
       "Manjusha Pawagi                      1\n",
       "Manuel Jorge Marmelo                 1\n",
       "Manuel Rivas                         1\n",
       "Manuel de Pedrolo                    1\n",
       "Marc Behm                            1\n",
       "A Blue Mountain Arts Collection      1\n",
       "Name: ISBN, Length: 6746, dtype: int64"
      ]
     },
     "execution_count": 83,
     "metadata": {},
     "output_type": "execute_result"
    }
   ],
   "source": [
    "Author_book_count "
   ]
  },
  {
   "cell_type": "code",
   "execution_count": 84,
   "metadata": {},
   "outputs": [
    {
     "data": {
      "text/plain": [
       "Text(0.5,0,'Authors')"
      ]
     },
     "execution_count": 84,
     "metadata": {},
     "output_type": "execute_result"
    },
    {
     "data": {
      "image/png": "[encoded data removed]",
      "text/plain": [
       "<matplotlib.figure.Figure at 0x7facff6b7438>"
      ]
     },
     "metadata": {},
     "output_type": "display_data"
    }
   ],
   "source": [
    "Author_book_count.plot()\n",
    "plt.ylabel('Number of books by Authors')\n",
    "plt.xlabel(\"Authors\")"
   ]
  },
  {
   "cell_type": "code",
   "execution_count": 73,
   "metadata": {
    "collapsed": true
   },
   "outputs": [],
   "source": [
    "publisher_author_count = items.groupby(['Book-Author'])['Publisher'].count().sort_values(ascending=False) "
   ]
  },
  {
   "cell_type": "code",
   "execution_count": 74,
   "metadata": {},
   "outputs": [
    {
     "data": {
      "text/plain": [
       "Book-Author\n",
       "Stephen King                       132\n",
       "Nora Roberts                        95\n",
       "Mary Higgins Clark                  45\n",
       "Dean R. Koontz                      43\n",
       "Danielle Steel                      42\n",
       "Tom Clancy                          40\n",
       "James Patterson                     39\n",
       "William Shakespeare                 38\n",
       "V.C. Andrews                        38\n",
       "Anne McCaffrey                      35\n",
       "Anne Rice                           32\n",
       "Sandra Brown                        30\n",
       "John Grisham                        29\n",
       "Sue Grafton                         29\n",
       "Jack Canfield                       29\n",
       "Piers Anthony                       28\n",
       "Agatha Christie                     28\n",
       "Lilian Jackson Braun                26\n",
       "John Sandford                       26\n",
       "Maeve Binchy                        26\n",
       "Catherine Coulter                   26\n",
       "Jude Deveraux                       25\n",
       "Jonathan Kellerman                  25\n",
       "Douglas Adams                       23\n",
       "Janet Evanovich                     23\n",
       "Robin Cook                          23\n",
       "Laurell K. Hamilton                 23\n",
       "Michael Crichton                    22\n",
       "Terry Pratchett                     22\n",
       "Diana Palmer                        21\n",
       "                                  ... \n",
       "Margaret Cho                         1\n",
       "Margaret Craven                      1\n",
       "Margaret Daley                       1\n",
       "Margaret Drabble                     1\n",
       "Margaret Dumas                       1\n",
       "Margaret Edson                       1\n",
       "Margaret Fishback Powers             1\n",
       "Marc Parent                          1\n",
       "Marc Norman                          1\n",
       "Marc Chagall                         1\n",
       "Mallory Kane                         1\n",
       "Malcolm Bradbury                     1\n",
       "Malcolm Gladwell                     1\n",
       "Malcolm Kiniry                       1\n",
       "Malcolm McConnell                    1\n",
       "Malcolm X                            1\n",
       "Malcolm-Jamal Warner                 1\n",
       "Malika Oufkir                        1\n",
       "Mallory Hart                         1\n",
       "Man Ho Kwok                          1\n",
       "Marc Brown                           1\n",
       "Man Ray                              1\n",
       "Manfred. Meding                      1\n",
       "Manil Suri                           1\n",
       "Manjusha Pawagi                      1\n",
       "Manuel Jorge Marmelo                 1\n",
       "Manuel Rivas                         1\n",
       "Manuel de Pedrolo                    1\n",
       "Marc Behm                            1\n",
       "A Blue Mountain Arts Collection      1\n",
       "Name: Publisher, Length: 6746, dtype: int64"
      ]
     },
     "execution_count": 74,
     "metadata": {},
     "output_type": "execute_result"
    }
   ],
   "source": [
    "publisher_author_count "
   ]
  },
  {
   "cell_type": "code",
   "execution_count": 70,
   "metadata": {},
   "outputs": [
    {
     "data": {
      "text/plain": [
       "Text(0,0.5,'Number of Authors by Publishers')"
      ]
     },
     "execution_count": 70,
     "metadata": {},
     "output_type": "execute_result"
    },
    {
     "data": {
      "image/png": "[encoded data removed]",
      "text/plain": [
       "<matplotlib.figure.Figure at 0x7facff6b78d0>"
      ]
     },
     "metadata": {},
     "output_type": "display_data"
    }
   ],
   "source": [
    "publisher_author_count.plot()\n",
    "plt.ylabel('Number of Authors by Publishers')\n"
   ]
  },
  {
   "cell_type": "code",
   "execution_count": null,
   "metadata": {
    "collapsed": true
   },
   "outputs": [],
   "source": []
  }
 ],
 "metadata": {
  "kernelspec": {
   "display_name": "Python 3",
   "language": "python",
   "name": "python3"
  },
  "language_info": {
   "codemirror_mode": {
    "name": "ipython",
    "version": 3
   },
   "file_extension": ".py",
   "mimetype": "text/x-python",
   "name": "python",
   "nbconvert_exporter": "python",
   "pygments_lexer": "ipython3",
   "version": "3.6.0"
  }
 },
 "nbformat": 4,
 "nbformat_minor": 2
}
