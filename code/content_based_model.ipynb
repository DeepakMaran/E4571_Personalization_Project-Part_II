{
 "cells": [
  {
   "cell_type": "code",
   "execution_count": null,
   "metadata": {
    "collapsed": true
   },
   "outputs": [],
   "source": [
    "import pandas as pd\n",
    "import numpy as np\n",
    "\n",
    "train_df = pd.read_csv('train.csv')\n",
    "test_df = pd.read_csv('test.csv')\n",
    "train_df.drop(['Unnamed: 0'], axis=1,inplace=True)\n",
    "test_df.drop(['Unnamed: 0'], axis=1,inplace=True)\n",
    "train = np.matrix(train_df)\n",
    "test = np.matrix(test_df)\n",
    "\n",
    "from sklearn.neighbors import NearestNeighbors\n",
    "model_knn = NearestNeighbors(metric='cosine', algorithm='brute',n_neighbors=5)\n",
    "#fit on training data\n",
    "model_knn.fit(train[:,3:])\n",
    "#compute 5 nearest neighbors for items in train\n",
    "distances, indices = model_knn.kneighbors(train[:,3:])\n",
    "\n",
    "predictions_cb_train =[]\n",
    "for i in range(len(train)):\n",
    "    uid = train[i,0]\n",
    "    iid = train[i,1]\n",
    "    true_r = train[i,2]\n",
    "    est_r = np.matrix(distances[i,:])*train[indices[i,:],2]\n",
    "    #est_r = est_r + float(user_bias[user_bias['User-ID']==uid]['Book-Rating'])\n",
    "    details = dict()\n",
    "    predictions_cb_train.append((uid, iid, true_r, est_r[0,0],details))\n",
    "\n",
    "predictions_cb_train_df = pd.DataFrame(predictions_cb_train)\n",
    "predictions_cb_train_df.to_csv('predictions_cb_train.csv', index = False)\n"
   ]
  },
  {
   "cell_type": "code",
   "execution_count": null,
   "metadata": {
    "collapsed": true
   },
   "outputs": [],
   "source": [
    "#compute 5 nearest neighbors for items in train\n",
    "distances, indices = model_knn.kneighbors(test[:,3:])\n",
    "\n",
    "predictions_cb_test =[]\n",
    "for i in range(len(test)):\n",
    "    uid = test[i,0]\n",
    "    iid = test[i,1]\n",
    "    true_r = test[i,2]\n",
    "    est_r = np.matrix(distances[i,:])*train[indices[i,:],2]\n",
    "    #est_r = est_r + float(user_bias[user_bias['User-ID']==uid]['Book-Rating'])\n",
    "    details = dict()\n",
    "    predictions_cb_test.append((uid, iid,true_r, est_r[0,0],details))\n",
    "\n",
    "predictions_cb_test_df = pd.DataFrame(predictions_cb_test)\n",
    "predictions_cb_test_df.to_csv('predictions_cb_test.csv', index = False)"
   ]
  }
 ],
 "metadata": {
  "kernelspec": {
   "display_name": "Python 2",
   "language": "python",
   "name": "python2"
  },
  "language_info": {
   "codemirror_mode": {
    "name": "ipython",
    "version": 2
   },
   "file_extension": ".py",
   "mimetype": "text/x-python",
   "name": "python",
   "nbconvert_exporter": "python",
   "pygments_lexer": "ipython2",
   "version": "2.7.13"
  }
 },
 "nbformat": 4,
 "nbformat_minor": 2
}
